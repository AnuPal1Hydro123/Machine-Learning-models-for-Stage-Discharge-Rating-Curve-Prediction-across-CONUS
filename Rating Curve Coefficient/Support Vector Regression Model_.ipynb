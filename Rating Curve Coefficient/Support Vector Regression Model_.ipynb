{
 "cells": [
  {
   "cell_type": "code",
   "execution_count": 39,
   "metadata": {},
   "outputs": [],
   "source": [
    "import pandas as pd\n",
    "import numpy as np\n",
    "import matplotlib.pyplot as plt\n",
    "import seaborn as sns\n",
    "sns.set(style = 'darkgrid')\n",
    "from sklearn.svm import SVR\n",
    "from sklearn.model_selection import GridSearchCV\n",
    "from sklearn.preprocessing import StandardScaler"
   ]
  },
  {
   "cell_type": "markdown",
   "metadata": {},
   "source": [
    "# Tier 1 Model "
   ]
  },
  {
   "cell_type": "code",
   "execution_count": 41,
   "metadata": {
    "collapsed": true
   },
   "outputs": [
    {
     "name": "stdout",
     "output_type": "stream",
     "text": [
      "           Qobs     W_mean    D_mean  (W/D)mean  Stage_mean       Qbank   \n",
      "0      6.603478  22.440900  0.944880      23.75    0.466344   35.180935  \\\n",
      "1     12.069244  25.257252  0.678180      37.24    0.646176   44.457378   \n",
      "2     23.899380  40.538400  0.655320      61.86    0.960120   55.143714   \n",
      "3     42.145424  71.738033  1.478280      48.53    1.542288  136.413272   \n",
      "4     10.533850  25.798272  1.456944      17.71    1.331976   17.505220   \n",
      "..          ...        ...       ...        ...         ...         ...   \n",
      "458  106.382399  52.236624  2.795016      18.69    2.243328  261.088522   \n",
      "459    9.988978  36.447984  0.650443      56.04    0.752856  359.798002   \n",
      "460   87.895860  41.553994  4.670146       8.90    4.437888  126.475802   \n",
      "461   13.105242  22.806355  0.582168      39.17    3.054096  225.344564   \n",
      "462    9.323873  17.761001  1.198474      14.82    1.005840   52.644671   \n",
      "\n",
      "        W_bank    D_bank  (W/D)bank  Stage_bank  ...        AI    D50_mm   \n",
      "0    22.959365  1.588008      14.46    0.978408  ...  1.077750  0.149486  \\\n",
      "1    33.832800  0.883920      38.28    1.011936  ...  0.367536  9.674139   \n",
      "2    41.580816  0.954024      43.58    1.261872  ...  0.299980  0.477191   \n",
      "3    74.760125  2.052523      36.42    2.279904  ...  0.997400  1.980554   \n",
      "4    26.043941  1.512418      17.22    1.728216  ...  0.715133  2.163916   \n",
      "..         ...       ...        ...         ...  ...       ...       ...   \n",
      "458  59.155584  3.858768      15.33    3.514344  ...  0.681158  2.412013   \n",
      "459  47.600006  5.357165       8.89    5.596128  ...  0.931950  1.309192   \n",
      "460  42.790262  6.105449       7.01    5.602224  ...  0.957867  0.807979   \n",
      "461  29.779265  3.808171       7.82    5.739384  ...  1.143000  0.742164   \n",
      "462  27.136649  2.730703       9.94    2.795016  ...  0.737667  0.614103   \n",
      "\n",
      "     Mean Elev     Slope  Ludev  Luforest  Luagri  Siltmean  Sand mean   \n",
      "0         4619  0.004906  17.70     73.84    3.99     19.52      76.70  \\\n",
      "1         7036  0.003907   7.24      8.01    0.07     44.59      35.00   \n",
      "2       197836  0.003783  42.22     41.61    0.45     40.14      34.97   \n",
      "3        11197  0.000942  15.72     54.94   21.00     50.95      41.84   \n",
      "4        22247  0.001082   7.03     41.98   22.39     36.12      47.90   \n",
      "..         ...       ...    ...       ...     ...       ...        ...   \n",
      "458      35056  0.000973  36.60     20.37    5.94      7.55      88.12   \n",
      "459      30768  0.000010   5.44     72.92   15.34     42.90      30.48   \n",
      "460      10958  0.000010  19.73     30.67   33.44     59.19      19.72   \n",
      "461       1225  0.001607  73.59     18.39    4.35     50.61      36.20   \n",
      "462      11586  0.000779  10.18     36.77   31.16     62.35      10.77   \n",
      "\n",
      "     Claymean  \n",
      "0        3.78  \n",
      "1       20.42  \n",
      "2       24.89  \n",
      "3        7.21  \n",
      "4       15.98  \n",
      "..        ...  \n",
      "458      4.33  \n",
      "459     26.62  \n",
      "460     21.09  \n",
      "461     13.18  \n",
      "462     26.88  \n",
      "\n",
      "[463 rows x 28 columns]\n"
     ]
    }
   ],
   "source": [
    "train_split=pd.read_csv('./Train.csv')\n",
    "\n",
    "test_split=pd.read_csv('./Test.csv')\n",
    "\n",
    "\n",
    "X_train_ = train_split.drop(['site_no','Mean Discharge','RatingCurve_Coeff','RatingCurve_Expo'],axis=1)\n",
    "\n",
    "X_val_ = test_split.drop(['site_no','Mean Discharge','RatingCurve_Coeff','RatingCurve_Expo'],axis=1)\n",
    "\n",
    "y_train_ = train_split[['RatingCurve_Coeff']]\n",
    "y_val_ = test_split[['RatingCurve_Coeff']]\n",
    "\n",
    "print(X_val_)"
   ]
  },
  {
   "cell_type": "markdown",
   "metadata": {},
   "source": [
    "# Tier-2 Model"
   ]
  },
  {
   "cell_type": "code",
   "execution_count": 49,
   "metadata": {},
   "outputs": [
    {
     "name": "stdout",
     "output_type": "stream",
     "text": [
      "      Rating Curve Coeff\n",
      "0               0.184961\n",
      "1               0.775995\n",
      "2               0.306450\n",
      "3               0.558255\n",
      "4               0.757773\n",
      "...                  ...\n",
      "1580            1.147047\n",
      "1581            0.344770\n",
      "1582            0.389127\n",
      "1583            0.468684\n",
      "1584            0.281113\n",
      "\n",
      "[1585 rows x 1 columns]\n"
     ]
    }
   ],
   "source": [
    "\n",
    "train_split=pd.read_csv('./Train_secondtier.csv')\n",
    "\n",
    "test_split=pd.read_csv('./Test_secondtier.csv')\n",
    "\n",
    "X_train_ = train_split.drop(['site_no','RatingCurve Exponent','Rating Curve Coeff'], axis=1)\n",
    "\n",
    "X_val_ = test_split.drop(['site_no','RatingCurve Exponent','Rating Curve Coeff'],axis=1)\n",
    "\n",
    "y_train_ = train_split[['Rating Curve Coeff']]\n",
    "\n",
    "y_val_ = test_split[['Rating Curve Coeff']]\n",
    "\n",
    "print(y_train_)"
   ]
  },
  {
   "cell_type": "markdown",
   "metadata": {},
   "source": [
    "# Import Dataset"
   ]
  },
  {
   "cell_type": "code",
   "execution_count": 50,
   "metadata": {},
   "outputs": [],
   "source": [
    "X_scaler = StandardScaler()\n",
    "\n",
    "X_train = X_scaler.fit_transform(X_train_).astype('float32')\n",
    "\n",
    "y_scaler = StandardScaler()\n",
    "\n",
    "y_train = y_scaler.fit_transform(np.array(y_train_).reshape(-1, 1)).astype('float32').ravel()\n",
    "\n",
    "X_test = X_scaler.transform(X_val_).astype('float32')"
   ]
  },
  {
   "cell_type": "code",
   "execution_count": 51,
   "metadata": {},
   "outputs": [
    {
     "name": "stdout",
     "output_type": "stream",
     "text": [
      "Fitting 8 folds for each of 320 candidates, totalling 2560 fits\n"
     ]
    },
    {
     "data": {
      "text/html": [
       "<style>#sk-container-id-7 {color: black;background-color: white;}#sk-container-id-7 pre{padding: 0;}#sk-container-id-7 div.sk-toggleable {background-color: white;}#sk-container-id-7 label.sk-toggleable__label {cursor: pointer;display: block;width: 100%;margin-bottom: 0;padding: 0.3em;box-sizing: border-box;text-align: center;}#sk-container-id-7 label.sk-toggleable__label-arrow:before {content: \"▸\";float: left;margin-right: 0.25em;color: #696969;}#sk-container-id-7 label.sk-toggleable__label-arrow:hover:before {color: black;}#sk-container-id-7 div.sk-estimator:hover label.sk-toggleable__label-arrow:before {color: black;}#sk-container-id-7 div.sk-toggleable__content {max-height: 0;max-width: 0;overflow: hidden;text-align: left;background-color: #f0f8ff;}#sk-container-id-7 div.sk-toggleable__content pre {margin: 0.2em;color: black;border-radius: 0.25em;background-color: #f0f8ff;}#sk-container-id-7 input.sk-toggleable__control:checked~div.sk-toggleable__content {max-height: 200px;max-width: 100%;overflow: auto;}#sk-container-id-7 input.sk-toggleable__control:checked~label.sk-toggleable__label-arrow:before {content: \"▾\";}#sk-container-id-7 div.sk-estimator input.sk-toggleable__control:checked~label.sk-toggleable__label {background-color: #d4ebff;}#sk-container-id-7 div.sk-label input.sk-toggleable__control:checked~label.sk-toggleable__label {background-color: #d4ebff;}#sk-container-id-7 input.sk-hidden--visually {border: 0;clip: rect(1px 1px 1px 1px);clip: rect(1px, 1px, 1px, 1px);height: 1px;margin: -1px;overflow: hidden;padding: 0;position: absolute;width: 1px;}#sk-container-id-7 div.sk-estimator {font-family: monospace;background-color: #f0f8ff;border: 1px dotted black;border-radius: 0.25em;box-sizing: border-box;margin-bottom: 0.5em;}#sk-container-id-7 div.sk-estimator:hover {background-color: #d4ebff;}#sk-container-id-7 div.sk-parallel-item::after {content: \"\";width: 100%;border-bottom: 1px solid gray;flex-grow: 1;}#sk-container-id-7 div.sk-label:hover label.sk-toggleable__label {background-color: #d4ebff;}#sk-container-id-7 div.sk-serial::before {content: \"\";position: absolute;border-left: 1px solid gray;box-sizing: border-box;top: 0;bottom: 0;left: 50%;z-index: 0;}#sk-container-id-7 div.sk-serial {display: flex;flex-direction: column;align-items: center;background-color: white;padding-right: 0.2em;padding-left: 0.2em;position: relative;}#sk-container-id-7 div.sk-item {position: relative;z-index: 1;}#sk-container-id-7 div.sk-parallel {display: flex;align-items: stretch;justify-content: center;background-color: white;position: relative;}#sk-container-id-7 div.sk-item::before, #sk-container-id-7 div.sk-parallel-item::before {content: \"\";position: absolute;border-left: 1px solid gray;box-sizing: border-box;top: 0;bottom: 0;left: 50%;z-index: -1;}#sk-container-id-7 div.sk-parallel-item {display: flex;flex-direction: column;z-index: 1;position: relative;background-color: white;}#sk-container-id-7 div.sk-parallel-item:first-child::after {align-self: flex-end;width: 50%;}#sk-container-id-7 div.sk-parallel-item:last-child::after {align-self: flex-start;width: 50%;}#sk-container-id-7 div.sk-parallel-item:only-child::after {width: 0;}#sk-container-id-7 div.sk-dashed-wrapped {border: 1px dashed gray;margin: 0 0.4em 0.5em 0.4em;box-sizing: border-box;padding-bottom: 0.4em;background-color: white;}#sk-container-id-7 div.sk-label label {font-family: monospace;font-weight: bold;display: inline-block;line-height: 1.2em;}#sk-container-id-7 div.sk-label-container {text-align: center;}#sk-container-id-7 div.sk-container {/* jupyter's `normalize.less` sets `[hidden] { display: none; }` but bootstrap.min.css set `[hidden] { display: none !important; }` so we also need the `!important` here to be able to override the default hidden behavior on the sphinx rendered scikit-learn.org. See: https://github.com/scikit-learn/scikit-learn/issues/21755 */display: inline-block !important;position: relative;}#sk-container-id-7 div.sk-text-repr-fallback {display: none;}</style><div id=\"sk-container-id-7\" class=\"sk-top-container\"><div class=\"sk-text-repr-fallback\"><pre>GridSearchCV(cv=8, estimator=SVR(), n_jobs=100,\n",
       "             param_grid={&#x27;C&#x27;: [0.1, 1, 10, 1500], &#x27;degree&#x27;: [1, 2, 3, 4],\n",
       "                         &#x27;gamma&#x27;: [0.0001, 0.001, 0.01, 0.1, 0.2, 0.5, 0.6, 0.9,\n",
       "                                   1, 10],\n",
       "                         &#x27;kernel&#x27;: [&#x27;rbf&#x27;, &#x27;sigmoid&#x27;]},\n",
       "             verbose=3)</pre><b>In a Jupyter environment, please rerun this cell to show the HTML representation or trust the notebook. <br />On GitHub, the HTML representation is unable to render, please try loading this page with nbviewer.org.</b></div><div class=\"sk-container\" hidden><div class=\"sk-item sk-dashed-wrapped\"><div class=\"sk-label-container\"><div class=\"sk-label sk-toggleable\"><input class=\"sk-toggleable__control sk-hidden--visually\" id=\"sk-estimator-id-19\" type=\"checkbox\" ><label for=\"sk-estimator-id-19\" class=\"sk-toggleable__label sk-toggleable__label-arrow\">GridSearchCV</label><div class=\"sk-toggleable__content\"><pre>GridSearchCV(cv=8, estimator=SVR(), n_jobs=100,\n",
       "             param_grid={&#x27;C&#x27;: [0.1, 1, 10, 1500], &#x27;degree&#x27;: [1, 2, 3, 4],\n",
       "                         &#x27;gamma&#x27;: [0.0001, 0.001, 0.01, 0.1, 0.2, 0.5, 0.6, 0.9,\n",
       "                                   1, 10],\n",
       "                         &#x27;kernel&#x27;: [&#x27;rbf&#x27;, &#x27;sigmoid&#x27;]},\n",
       "             verbose=3)</pre></div></div></div><div class=\"sk-parallel\"><div class=\"sk-parallel-item\"><div class=\"sk-item\"><div class=\"sk-label-container\"><div class=\"sk-label sk-toggleable\"><input class=\"sk-toggleable__control sk-hidden--visually\" id=\"sk-estimator-id-20\" type=\"checkbox\" ><label for=\"sk-estimator-id-20\" class=\"sk-toggleable__label sk-toggleable__label-arrow\">estimator: SVR</label><div class=\"sk-toggleable__content\"><pre>SVR()</pre></div></div></div><div class=\"sk-serial\"><div class=\"sk-item\"><div class=\"sk-estimator sk-toggleable\"><input class=\"sk-toggleable__control sk-hidden--visually\" id=\"sk-estimator-id-21\" type=\"checkbox\" ><label for=\"sk-estimator-id-21\" class=\"sk-toggleable__label sk-toggleable__label-arrow\">SVR</label><div class=\"sk-toggleable__content\"><pre>SVR()</pre></div></div></div></div></div></div></div></div></div></div>"
      ],
      "text/plain": [
       "GridSearchCV(cv=8, estimator=SVR(), n_jobs=100,\n",
       "             param_grid={'C': [0.1, 1, 10, 1500], 'degree': [1, 2, 3, 4],\n",
       "                         'gamma': [0.0001, 0.001, 0.01, 0.1, 0.2, 0.5, 0.6, 0.9,\n",
       "                                   1, 10],\n",
       "                         'kernel': ['rbf', 'sigmoid']},\n",
       "             verbose=3)"
      ]
     },
     "execution_count": 51,
     "metadata": {},
     "output_type": "execute_result"
    }
   ],
   "source": [
    "## Model\n",
    "svr = SVR()\n",
    "param_grid = {'C': [0.1, 1, 10, 1500],\n",
    "              'gamma': [1e-4, 1e-3, 0.01, 0.1, 0.2, 0.5, 0.6, 0.9,1,10],\n",
    "              'kernel': ['rbf','sigmoid'],\n",
    "              'degree': [1, 2, 3,4]}\n",
    "\n",
    "svr_grid = GridSearchCV(svr, param_grid, cv=8, n_jobs=100, verbose=3)\n",
    "svr_grid.fit(X_train, y_train)"
   ]
  },
  {
   "cell_type": "code",
   "execution_count": 52,
   "metadata": {},
   "outputs": [
    {
     "name": "stdout",
     "output_type": "stream",
     "text": [
      "{'C': 10, 'degree': 1, 'gamma': 0.01, 'kernel': 'rbf'}\n",
      "0.5262198204190199\n"
     ]
    }
   ],
   "source": [
    "print(svr_grid.best_params_)\n",
    "print(svr_grid.best_score_)"
   ]
  },
  {
   "cell_type": "code",
   "execution_count": 53,
   "metadata": {},
   "outputs": [],
   "source": [
    "import pickle\n",
    "\n",
    "with open(r'.\\svr_best_model', \"wb\") as fp:\n",
    "    pickle.dump(svr_grid.best_estimator_, fp)"
   ]
  },
  {
   "cell_type": "code",
   "execution_count": 54,
   "metadata": {},
   "outputs": [],
   "source": [
    "import pickle\n",
    "\n",
    "with open(r'.\\svr_best_model', \"rb\") as fp:\n",
    "    svr_grid = pickle.load(fp)"
   ]
  },
  {
   "cell_type": "code",
   "execution_count": 55,
   "metadata": {
    "collapsed": true
   },
   "outputs": [
    {
     "name": "stdout",
     "output_type": "stream",
     "text": [
      "R²: 0.5322778942596342\n"
     ]
    },
    {
     "data": {
      "image/png": "[encoded data removed]",
      "text/plain": [
       "<Figure size 640x480 with 1 Axes>"
      ]
     },
     "metadata": {},
     "output_type": "display_data"
    }
   ],
   "source": [
    "import numpy as np\n",
    "import matplotlib.pyplot as plt\n",
    "import pandas as pd\n",
    "from sklearn.metrics import r2_score\n",
    "\n",
    "y_pred = svr_grid.predict(X_test)\n",
    "\n",
    "y_pred = y_scaler.inverse_transform(y_pred.reshape(-1, 1)).ravel()\n",
    "\n",
    "r2 = r2_score(y_val_, y_pred)\n",
    "print(f'R\\u00b2: {r2}')\n",
    "\n",
    "result_df = pd.DataFrame({\n",
    "    'Observed': np.ravel(y_val_),\n",
    "    'Predicted': np.ravel(y_pred),\n",
    "})\n",
    "\n",
    "# Scatter plot of Actual vs Predicted values\n",
    "plt.scatter(result_df['Observed'], result_df['Predicted'], color='blue', label='Data Points')\n",
    "\n",
    "# Calculate the max value for both axes (for the regression line)\n",
    "max_y = max(result_df['Observed'].max(), result_df['Predicted'].max())\n",
    "\n",
    "# Plot the 1:1 line (perfect prediction line)\n",
    "plt.plot([0, max_y], [0, max_y], color='red', linestyle='--', label='1:1 Line')\n",
    "\n",
    "\n",
    "\n",
    "# Labels and title\n",
    "plt.xlabel('Observed')\n",
    "plt.ylabel('Predicted')\n",
    "\n",
    "plt.legend()\n",
    "\n",
    "# Show plot\n",
    "plt.show()\n"
   ]
  },
  {
   "cell_type": "code",
   "execution_count": null,
   "metadata": {},
   "outputs": [],
   "source": []
  }
 ],
 "metadata": {
  "kernelspec": {
   "display_name": "Python 3 (ipykernel)",
   "language": "python",
   "name": "python3"
  },
  "language_info": {
   "codemirror_mode": {
    "name": "ipython",
    "version": 3
   },
   "file_extension": ".py",
   "mimetype": "text/x-python",
   "name": "python",
   "nbconvert_exporter": "python",
   "pygments_lexer": "ipython3",
   "version": "3.10.9"
  }
 },
 "nbformat": 4,
 "nbformat_minor": 1
}
