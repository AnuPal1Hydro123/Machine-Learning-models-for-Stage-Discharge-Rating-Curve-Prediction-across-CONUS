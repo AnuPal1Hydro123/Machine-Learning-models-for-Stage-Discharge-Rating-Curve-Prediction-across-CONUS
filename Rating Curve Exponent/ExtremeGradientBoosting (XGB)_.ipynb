{
 "cells": [
  {
   "cell_type": "code",
   "execution_count": 677,
   "metadata": {
    "collapsed": true
   },
   "outputs": [
    {
     "name": "stdout",
     "output_type": "stream",
     "text": [
      "Requirement already satisfied: hyperopt in ./anaconda3/lib/python3.10/site-packages (0.2.7)\r\n",
      "Requirement already satisfied: numpy in ./anaconda3/lib/python3.10/site-packages (from hyperopt) (1.23.5)\r\n",
      "Requirement already satisfied: scipy in ./anaconda3/lib/python3.10/site-packages (from hyperopt) (1.10.1)\r\n",
      "Requirement already satisfied: six in ./anaconda3/lib/python3.10/site-packages (from hyperopt) (1.16.0)\r\n",
      "Requirement already satisfied: networkx>=2.2 in ./anaconda3/lib/python3.10/site-packages (from hyperopt) (2.8.4)\r\n",
      "Requirement already satisfied: future in ./anaconda3/lib/python3.10/site-packages (from hyperopt) (0.18.3)\r\n",
      "Requirement already satisfied: tqdm in ./anaconda3/lib/python3.10/site-packages (from hyperopt) (4.65.0)\r\n",
      "Requirement already satisfied: cloudpickle in ./anaconda3/lib/python3.10/site-packages (from hyperopt) (2.0.0)\r\n",
      "Requirement already satisfied: py4j in ./anaconda3/lib/python3.10/site-packages (from hyperopt) (0.10.9.7)\r\n"
     ]
    }
   ],
   "source": [
    "!pip install hyperopt\n"
   ]
  },
  {
   "cell_type": "code",
   "execution_count": 165,
   "metadata": {
    "collapsed": true
   },
   "outputs": [
    {
     "name": "stdout",
     "output_type": "stream",
     "text": [
      "Collecting xgboost\n",
      "  Downloading xgboost-2.0.2-py3-none-win_amd64.whl (99.8 MB)\n",
      "                                              0.0/99.8 MB ? eta -:--:--\n",
      "                                              0.3/99.8 MB 6.5 MB/s eta 0:00:16\n",
      "                                              0.7/99.8 MB 8.3 MB/s eta 0:00:12\n",
      "                                              1.0/99.8 MB 7.3 MB/s eta 0:00:14\n",
      "                                              1.5/99.8 MB 7.9 MB/s eta 0:00:13\n",
      "                                              2.0/99.8 MB 8.5 MB/s eta 0:00:12\n",
      "     -                                        2.5/99.8 MB 8.9 MB/s eta 0:00:11\n",
      "     -                                        3.1/99.8 MB 9.4 MB/s eta 0:00:11\n",
      "     -                                        3.7/99.8 MB 9.7 MB/s eta 0:00:10\n",
      "     -                                        4.3/99.8 MB 10.2 MB/s eta 0:00:10\n",
      "     --                                       5.1/99.8 MB 10.8 MB/s eta 0:00:09\n",
      "     --                                       5.8/99.8 MB 11.3 MB/s eta 0:00:09\n",
      "     --                                       6.6/99.8 MB 11.6 MB/s eta 0:00:09\n",
      "     --                                       7.4/99.8 MB 12.2 MB/s eta 0:00:08\n",
      "     ---                                      8.4/99.8 MB 12.5 MB/s eta 0:00:08\n",
      "     ---                                      9.3/99.8 MB 12.9 MB/s eta 0:00:07\n",
      "     ----                                    10.3/99.8 MB 13.9 MB/s eta 0:00:07\n",
      "     ----                                    11.4/99.8 MB 15.6 MB/s eta 0:00:06\n",
      "     ----                                    12.5/99.8 MB 16.8 MB/s eta 0:00:06\n",
      "     -----                                   13.5/99.8 MB 18.7 MB/s eta 0:00:05\n",
      "     -----                                   14.4/99.8 MB 19.3 MB/s eta 0:00:05\n",
      "     ------                                  15.5/99.8 MB 19.8 MB/s eta 0:00:05\n",
      "     ------                                  16.8/99.8 MB 21.8 MB/s eta 0:00:04\n",
      "     -------                                 18.1/99.8 MB 22.6 MB/s eta 0:00:04\n",
      "     -------                                 18.9/99.8 MB 22.6 MB/s eta 0:00:04\n",
      "     -------                                 20.0/99.8 MB 22.6 MB/s eta 0:00:04\n",
      "     --------                                21.4/99.8 MB 23.4 MB/s eta 0:00:04\n",
      "     --------                                22.7/99.8 MB 23.4 MB/s eta 0:00:04\n",
      "     ---------                               24.1/99.8 MB 25.2 MB/s eta 0:00:04\n",
      "     ---------                               25.5/99.8 MB 26.2 MB/s eta 0:00:03\n",
      "     ----------                              27.1/99.8 MB 27.3 MB/s eta 0:00:03\n",
      "     -----------                             28.6/99.8 MB 27.3 MB/s eta 0:00:03\n",
      "     -----------                             30.0/99.8 MB 29.7 MB/s eta 0:00:03\n",
      "     ------------                            31.7/99.8 MB 31.2 MB/s eta 0:00:03\n",
      "     -------------                           33.3/99.8 MB 31.2 MB/s eta 0:00:03\n",
      "     -------------                           34.8/99.8 MB 34.4 MB/s eta 0:00:02\n",
      "     --------------                          36.4/99.8 MB 32.8 MB/s eta 0:00:02\n",
      "     ---------------                         38.4/99.8 MB 32.7 MB/s eta 0:00:02\n",
      "     ---------------                         40.3/99.8 MB 36.4 MB/s eta 0:00:02\n",
      "     ----------------                        41.9/99.8 MB 38.5 MB/s eta 0:00:02\n",
      "     -----------------                       44.0/99.8 MB 38.6 MB/s eta 0:00:02\n",
      "     -----------------                       45.1/99.8 MB 38.6 MB/s eta 0:00:02\n",
      "     ------------------                      46.5/99.8 MB 36.4 MB/s eta 0:00:02\n",
      "     -------------------                     48.7/99.8 MB 38.6 MB/s eta 0:00:02\n",
      "     -------------------                     50.2/99.8 MB 36.4 MB/s eta 0:00:02\n",
      "     -------------------                     50.3/99.8 MB 36.4 MB/s eta 0:00:02\n",
      "     -------------------                     50.7/99.8 MB 28.4 MB/s eta 0:00:02\n",
      "     --------------------                    52.8/99.8 MB 29.7 MB/s eta 0:00:02\n",
      "     ---------------------                   53.8/99.8 MB 27.3 MB/s eta 0:00:02\n",
      "     ---------------------                   55.1/99.8 MB 26.2 MB/s eta 0:00:02\n",
      "     ----------------------                  57.0/99.8 MB 28.5 MB/s eta 0:00:02\n",
      "     -----------------------                 59.4/99.8 MB 28.4 MB/s eta 0:00:02\n",
      "     -----------------------                 61.0/99.8 MB 34.4 MB/s eta 0:00:02\n",
      "     ------------------------                62.9/99.8 MB 34.4 MB/s eta 0:00:02\n",
      "     -------------------------               64.8/99.8 MB 40.9 MB/s eta 0:00:01\n",
      "     --------------------------              67.0/99.8 MB 40.9 MB/s eta 0:00:01\n",
      "     --------------------------              68.4/99.8 MB 38.6 MB/s eta 0:00:01\n",
      "     ---------------------------             70.5/99.8 MB 38.5 MB/s eta 0:00:01\n",
      "     ----------------------------            73.2/99.8 MB 43.7 MB/s eta 0:00:01\n",
      "     -----------------------------           75.4/99.8 MB 43.5 MB/s eta 0:00:01\n",
      "     ------------------------------          77.6/99.8 MB 43.5 MB/s eta 0:00:01\n",
      "     -------------------------------         80.3/99.8 MB 46.7 MB/s eta 0:00:01\n",
      "     --------------------------------        82.5/99.8 MB 50.4 MB/s eta 0:00:01\n",
      "     ---------------------------------       84.6/99.8 MB 50.4 MB/s eta 0:00:01\n",
      "     ----------------------------------      87.0/99.8 MB 43.5 MB/s eta 0:00:01\n",
      "     ----------------------------------      89.1/99.8 MB 50.4 MB/s eta 0:00:01\n",
      "     -----------------------------------     91.3/99.8 MB 43.5 MB/s eta 0:00:01\n",
      "     ------------------------------------    93.7/99.8 MB 50.4 MB/s eta 0:00:01\n",
      "     -------------------------------------   96.5/99.8 MB 54.4 MB/s eta 0:00:01\n",
      "     --------------------------------------  98.6/99.8 MB 54.4 MB/s eta 0:00:01\n",
      "     --------------------------------------  99.7/99.8 MB 50.4 MB/s eta 0:00:01\n",
      "     --------------------------------------  99.7/99.8 MB 50.4 MB/s eta 0:00:01\n",
      "     --------------------------------------  99.7/99.8 MB 50.4 MB/s eta 0:00:01\n",
      "     --------------------------------------  99.7/99.8 MB 50.4 MB/s eta 0:00:01\n",
      "     --------------------------------------- 99.8/99.8 MB 21.1 MB/s eta 0:00:00\n",
      "Requirement already satisfied: numpy in c:\\users\\anupal\\anaconda3\\envs\\flood\\lib\\site-packages (from xgboost) (1.24.3)\n",
      "Requirement already satisfied: scipy in c:\\users\\anupal\\anaconda3\\envs\\flood\\lib\\site-packages (from xgboost) (1.11.1)\n",
      "Installing collected packages: xgboost\n",
      "Successfully installed xgboost-2.0.2\n",
      "Note: you may need to restart the kernel to use updated packages.\n"
     ]
    }
   ],
   "source": [
    "pip install -U xgboost\n"
   ]
  },
  {
   "cell_type": "code",
   "execution_count": 2,
   "metadata": {},
   "outputs": [],
   "source": [
    "import pandas as pd\n",
    "import numpy as np\n",
    "import matplotlib.pyplot as plt\n",
    "import seaborn as sns\n",
    "sns.set(style = 'darkgrid')\n",
    "\n",
    "from sklearn.model_selection import RandomizedSearchCV, train_test_split\n",
    "from sklearn.metrics import r2_score\n",
    "from hyperopt import STATUS_OK, Trials, fmin, hp, tpe\n"
   ]
  },
  {
   "cell_type": "markdown",
   "metadata": {},
   "source": [
    "# TIER-1"
   ]
  },
  {
   "cell_type": "code",
   "execution_count": 25,
   "metadata": {
    "collapsed": true
   },
   "outputs": [
    {
     "name": "stdout",
     "output_type": "stream",
     "text": [
      "           Qobs     W_mean    D_mean  (W/D)mean  Stage_mean       Qbank   \n",
      "0      6.603478  22.440900  0.944880      23.75    0.466344   35.180935  \\\n",
      "1     12.069244  25.257252  0.678180      37.24    0.646176   44.457378   \n",
      "2     23.899380  40.538400  0.655320      61.86    0.960120   55.143714   \n",
      "3     42.145424  71.738033  1.478280      48.53    1.542288  136.413272   \n",
      "4     10.533850  25.798272  1.456944      17.71    1.331976   17.505220   \n",
      "..          ...        ...       ...        ...         ...         ...   \n",
      "458  106.382399  52.236624  2.795016      18.69    2.243328  261.088522   \n",
      "459    9.988978  36.447984  0.650443      56.04    0.752856  359.798002   \n",
      "460   87.895860  41.553994  4.670146       8.90    4.437888  126.475802   \n",
      "461   13.105242  22.806355  0.582168      39.17    3.054096  225.344564   \n",
      "462    9.323873  17.761001  1.198474      14.82    1.005840   52.644671   \n",
      "\n",
      "        W_bank    D_bank  (W/D)bank  Stage_bank  ...    D50_mm  Mean Elev   \n",
      "0    22.959365  1.588008      14.46    0.978408  ...  0.149486       4619  \\\n",
      "1    33.832800  0.883920      38.28    1.011936  ...  9.674139       7036   \n",
      "2    41.580816  0.954024      43.58    1.261872  ...  0.477191     197836   \n",
      "3    74.760125  2.052523      36.42    2.279904  ...  1.980554      11197   \n",
      "4    26.043941  1.512418      17.22    1.728216  ...  2.163916      22247   \n",
      "..         ...       ...        ...         ...  ...       ...        ...   \n",
      "458  59.155584  3.858768      15.33    3.514344  ...  2.412013      35056   \n",
      "459  47.600006  5.357165       8.89    5.596128  ...  1.309192      30768   \n",
      "460  42.790262  6.105449       7.01    5.602224  ...  0.807979      10958   \n",
      "461  29.779265  3.808171       7.82    5.739384  ...  0.742164       1225   \n",
      "462  27.136649  2.730703       9.94    2.795016  ...  0.614103      11586   \n",
      "\n",
      "        Slope  Ludev  Luforest  Luagri  Siltmean  Sand mean  Claymean   \n",
      "0    0.004906  17.70     73.84    3.99     19.52      76.70      3.78  \\\n",
      "1    0.003907   7.24      8.01    0.07     44.59      35.00     20.42   \n",
      "2    0.003783  42.22     41.61    0.45     40.14      34.97     24.89   \n",
      "3    0.000942  15.72     54.94   21.00     50.95      41.84      7.21   \n",
      "4    0.001082   7.03     41.98   22.39     36.12      47.90     15.98   \n",
      "..        ...    ...       ...     ...       ...        ...       ...   \n",
      "458  0.000973  36.60     20.37    5.94      7.55      88.12      4.33   \n",
      "459  0.000010   5.44     72.92   15.34     42.90      30.48     26.62   \n",
      "460  0.000010  19.73     30.67   33.44     59.19      19.72     21.09   \n",
      "461  0.001607  73.59     18.39    4.35     50.61      36.20     13.18   \n",
      "462  0.000779  10.18     36.77   31.16     62.35      10.77     26.88   \n",
      "\n",
      "     RatingCurve_Coeff  \n",
      "0             0.274179  \n",
      "1             0.261633  \n",
      "2             0.191619  \n",
      "3             0.236739  \n",
      "4             0.621435  \n",
      "..                 ...  \n",
      "458           0.212575  \n",
      "459           0.460137  \n",
      "460           1.509221  \n",
      "461           0.314885  \n",
      "462           0.951093  \n",
      "\n",
      "[463 rows x 29 columns]\n"
     ]
    }
   ],
   "source": [
    "train_split=pd.read_csv('./Train.csv')\n",
    "\n",
    "test_split=pd.read_csv('./Test.csv')\n",
    "\n",
    "\n",
    "X_train_ = train_split.drop(['site_no','Mean Discharge','RatingCurve_Expo'],axis=1)\n",
    "\n",
    "X_val_ = test_split.drop(['site_no','Mean Discharge','RatingCurve_Expo'],axis=1)\n",
    "\n",
    "y_train_ = train_split[['RatingCurve_Expo']]\n",
    "y_val_ = test_split[['RatingCurve_Expo']]\n",
    "\n",
    "print(X_val_)"
   ]
  },
  {
   "cell_type": "markdown",
   "metadata": {},
   "source": [
    "# TIER-2"
   ]
  },
  {
   "cell_type": "code",
   "execution_count": 34,
   "metadata": {
    "collapsed": true
   },
   "outputs": [
    {
     "name": "stdout",
     "output_type": "stream",
     "text": [
      "      RatingCurve Exponent\n",
      "0                 0.615246\n",
      "1                 0.329056\n",
      "2                 0.450570\n",
      "3                 0.433070\n",
      "4                 0.365315\n",
      "...                    ...\n",
      "1580              0.212331\n",
      "1581              0.422158\n",
      "1582              0.414356\n",
      "1583              0.494579\n",
      "1584              0.531202\n",
      "\n",
      "[1585 rows x 1 columns]\n"
     ]
    }
   ],
   "source": [
    "train_split=pd.read_csv('./Train_secondtier.csv')\n",
    "\n",
    "test_split=pd.read_csv('./Test_secondtier.csv')\n",
    "\n",
    "X_train_ = train_split.drop(['site_no','RatingCurve Exponent'], axis=1)\n",
    "\n",
    "X_val_ = test_split.drop(['site_no','RatingCurve Exponent'],axis=1)\n",
    "\n",
    "y_train_ = train_split[['RatingCurve Exponent']]\n",
    "\n",
    "y_val_ = test_split[['RatingCurve Exponent']]\n",
    "\n",
    "print(y_train_)"
   ]
  },
  {
   "cell_type": "code",
   "execution_count": 35,
   "metadata": {},
   "outputs": [],
   "source": [
    "# Import necessary libraries\n",
    "import xgboost as xgb\n",
    "import numpy as np\n",
    "from sklearn.metrics import r2_score\n",
    "from hyperopt import hp, fmin, tpe, Trials\n",
    "\n",
    "\n",
    "space = {\n",
    "    'max_depth': hp.quniform(\"max_depth\", 2, 20, 1), \n",
    "    'min_child_weight': hp.quniform('min_child_weight', 1, 20, 1),  \n",
    "    'learning_rate': hp.loguniform('learning_rate', np.log(0.0001), np.log(0.7)),  \n",
    "    'n_estimators': hp.choice('n_estimators', [100, 200, 300, 400, 500]), \n",
    "    'colsample_bytree': hp.uniform('colsample_bytree', 0.1, 1),  \n",
    "    'subsample': hp.uniform('subsample', 0.8, 1), \n",
    "    'gamma': hp.uniform('gamma', 0, 0.3),  \n",
    "    'scale_pos_weight': hp.uniform('scale_pos_weight', 0.2, 1),  \n",
    "    'reg_alpha': hp.uniform('reg_alpha', 0, 10), \n",
    "    'reg_lambda': hp.uniform('reg_lambda', 0, 10),  \n",
    "    'max_delta_step': hp.quniform('max_delta_step', 0, 10, 1) , \n",
    "    'tree_method':hp.choice('tree_method',['auto','exact','approx']),\n",
    "    'booster': hp.choice('booster', ['gbtree', 'gblinear', 'dart']),\n",
    "}\n",
    "\n",
    "# Objective function\n",
    "def objective(space):\n",
    "    params = {\n",
    "        'max_depth': int(space['max_depth']),\n",
    "        'learning_rate': space['learning_rate'],\n",
    "        'n_estimators': int(space['n_estimators']),\n",
    "        'min_child_weight': space['min_child_weight'],\n",
    "        'colsample_bytree': space['colsample_bytree'],\n",
    "        'subsample': space['subsample'],\n",
    "        'gamma': space['gamma'],\n",
    "        'scale_pos_weight': space['scale_pos_weight'],\n",
    "        'reg_alpha': space['reg_alpha'],\n",
    "        'reg_lambda': space['reg_lambda'],\n",
    "        'max_delta_step': int(space['max_delta_step']),\n",
    "        'tree_method':space['tree_method']\n",
    "        \n",
    "    }\n",
    "\n",
    "    xgb_model = xgb.XGBRegressor(**params)\n",
    "    xgb_model.fit(X_train_.to_numpy(), y_train_.to_numpy().ravel())\n",
    "\n",
    "    pred = xgb_model.predict(X_val_.to_numpy())\n",
    "    accuracy = r2_score(y_val_, pred)\n",
    "\n",
    "    return {'loss': -accuracy, 'status': STATUS_OK }\n",
    "\n",
    "# Example usage of hyperopt's fmin function\n",
    "\n"
   ]
  },
  {
   "cell_type": "code",
   "execution_count": 36,
   "metadata": {},
   "outputs": [
    {
     "name": "stdout",
     "output_type": "stream",
     "text": [
      "100%|████| 1000/1000 [15:32<00:00,  1.07trial/s, best loss: -0.7156886307538537]\n"
     ]
    }
   ],
   "source": [
    "trials = Trials()\n",
    "\n",
    "best_hyperparams = fmin(fn = objective,\n",
    "                        space = space,\n",
    "                        algo = tpe.suggest,\n",
    "                        max_evals = 1000,\n",
    "                        trials = trials)"
   ]
  },
  {
   "cell_type": "code",
   "execution_count": 37,
   "metadata": {},
   "outputs": [
    {
     "name": "stdout",
     "output_type": "stream",
     "text": [
      "The best hyperparameters are :  \n",
      "\n",
      "{'booster': 2, 'colsample_bytree': 0.8977513600949637, 'gamma': 0.004953804415573013, 'learning_rate': 0.041108759849070406, 'max_delta_step': 5.0, 'max_depth': 20.0, 'min_child_weight': 3.0, 'n_estimators': 4, 'reg_alpha': 0.9396301215486413, 'reg_lambda': 5.076348664888728, 'scale_pos_weight': 0.3388160845278136, 'subsample': 0.846425538471829, 'tree_method': 1}\n"
     ]
    }
   ],
   "source": [
    "print(\"The best hyperparameters are : \",\"\\n\")\n",
    "print(best_hyperparams)"
   ]
  },
  {
   "cell_type": "code",
   "execution_count": 29,
   "metadata": {},
   "outputs": [],
   "source": [
    "##Tier 1\n",
    "\n",
    "xgb_model = xgb.XGBRegressor(colsample_bytree=0.911,scale_pos_weight=0.728,subsample=0.935,reg_alpha=2.38, reg_lambda=4.79, learning_rate=0.074, max_depth=4,max_delta_step= 1.0 ,min_child_weight=4.0, n_estimators=400,gamma=0.054,random_state=42)"
   ]
  },
  {
   "cell_type": "code",
   "execution_count": 38,
   "metadata": {},
   "outputs": [],
   "source": [
    "# TIer-2\n",
    "\n",
    "xgb_model = xgb.XGBRegressor(colsample_bytree=0.897,scale_pos_weight=0.338,subsample=0.846,reg_alpha=0.939, reg_lambda=5.076, learning_rate=0.041, max_depth=20,max_delta_step= 5.0 ,min_child_weight=3.0, n_estimators=500,gamma=0.004,random_state=42)"
   ]
  },
  {
   "cell_type": "code",
   "execution_count": 39,
   "metadata": {},
   "outputs": [
    {
     "data": {
      "text/html": [
       "<style>#sk-container-id-4 {color: black;background-color: white;}#sk-container-id-4 pre{padding: 0;}#sk-container-id-4 div.sk-toggleable {background-color: white;}#sk-container-id-4 label.sk-toggleable__label {cursor: pointer;display: block;width: 100%;margin-bottom: 0;padding: 0.3em;box-sizing: border-box;text-align: center;}#sk-container-id-4 label.sk-toggleable__label-arrow:before {content: \"▸\";float: left;margin-right: 0.25em;color: #696969;}#sk-container-id-4 label.sk-toggleable__label-arrow:hover:before {color: black;}#sk-container-id-4 div.sk-estimator:hover label.sk-toggleable__label-arrow:before {color: black;}#sk-container-id-4 div.sk-toggleable__content {max-height: 0;max-width: 0;overflow: hidden;text-align: left;background-color: #f0f8ff;}#sk-container-id-4 div.sk-toggleable__content pre {margin: 0.2em;color: black;border-radius: 0.25em;background-color: #f0f8ff;}#sk-container-id-4 input.sk-toggleable__control:checked~div.sk-toggleable__content {max-height: 200px;max-width: 100%;overflow: auto;}#sk-container-id-4 input.sk-toggleable__control:checked~label.sk-toggleable__label-arrow:before {content: \"▾\";}#sk-container-id-4 div.sk-estimator input.sk-toggleable__control:checked~label.sk-toggleable__label {background-color: #d4ebff;}#sk-container-id-4 div.sk-label input.sk-toggleable__control:checked~label.sk-toggleable__label {background-color: #d4ebff;}#sk-container-id-4 input.sk-hidden--visually {border: 0;clip: rect(1px 1px 1px 1px);clip: rect(1px, 1px, 1px, 1px);height: 1px;margin: -1px;overflow: hidden;padding: 0;position: absolute;width: 1px;}#sk-container-id-4 div.sk-estimator {font-family: monospace;background-color: #f0f8ff;border: 1px dotted black;border-radius: 0.25em;box-sizing: border-box;margin-bottom: 0.5em;}#sk-container-id-4 div.sk-estimator:hover {background-color: #d4ebff;}#sk-container-id-4 div.sk-parallel-item::after {content: \"\";width: 100%;border-bottom: 1px solid gray;flex-grow: 1;}#sk-container-id-4 div.sk-label:hover label.sk-toggleable__label {background-color: #d4ebff;}#sk-container-id-4 div.sk-serial::before {content: \"\";position: absolute;border-left: 1px solid gray;box-sizing: border-box;top: 0;bottom: 0;left: 50%;z-index: 0;}#sk-container-id-4 div.sk-serial {display: flex;flex-direction: column;align-items: center;background-color: white;padding-right: 0.2em;padding-left: 0.2em;position: relative;}#sk-container-id-4 div.sk-item {position: relative;z-index: 1;}#sk-container-id-4 div.sk-parallel {display: flex;align-items: stretch;justify-content: center;background-color: white;position: relative;}#sk-container-id-4 div.sk-item::before, #sk-container-id-4 div.sk-parallel-item::before {content: \"\";position: absolute;border-left: 1px solid gray;box-sizing: border-box;top: 0;bottom: 0;left: 50%;z-index: -1;}#sk-container-id-4 div.sk-parallel-item {display: flex;flex-direction: column;z-index: 1;position: relative;background-color: white;}#sk-container-id-4 div.sk-parallel-item:first-child::after {align-self: flex-end;width: 50%;}#sk-container-id-4 div.sk-parallel-item:last-child::after {align-self: flex-start;width: 50%;}#sk-container-id-4 div.sk-parallel-item:only-child::after {width: 0;}#sk-container-id-4 div.sk-dashed-wrapped {border: 1px dashed gray;margin: 0 0.4em 0.5em 0.4em;box-sizing: border-box;padding-bottom: 0.4em;background-color: white;}#sk-container-id-4 div.sk-label label {font-family: monospace;font-weight: bold;display: inline-block;line-height: 1.2em;}#sk-container-id-4 div.sk-label-container {text-align: center;}#sk-container-id-4 div.sk-container {/* jupyter's `normalize.less` sets `[hidden] { display: none; }` but bootstrap.min.css set `[hidden] { display: none !important; }` so we also need the `!important` here to be able to override the default hidden behavior on the sphinx rendered scikit-learn.org. See: https://github.com/scikit-learn/scikit-learn/issues/21755 */display: inline-block !important;position: relative;}#sk-container-id-4 div.sk-text-repr-fallback {display: none;}</style><div id=\"sk-container-id-4\" class=\"sk-top-container\"><div class=\"sk-text-repr-fallback\"><pre>XGBRegressor(base_score=None, booster=None, callbacks=None,\n",
       "             colsample_bylevel=None, colsample_bynode=None,\n",
       "             colsample_bytree=0.897, device=None, early_stopping_rounds=None,\n",
       "             enable_categorical=False, eval_metric=None, feature_types=None,\n",
       "             gamma=0.004, grow_policy=None, importance_type=None,\n",
       "             interaction_constraints=None, learning_rate=0.041, max_bin=None,\n",
       "             max_cat_threshold=None, max_cat_to_onehot=None, max_delta_step=5.0,\n",
       "             max_depth=20, max_leaves=None, min_child_weight=3.0, missing=nan,\n",
       "             monotone_constraints=None, multi_strategy=None, n_estimators=500,\n",
       "             n_jobs=None, num_parallel_tree=None, random_state=42, ...)</pre><b>In a Jupyter environment, please rerun this cell to show the HTML representation or trust the notebook. <br />On GitHub, the HTML representation is unable to render, please try loading this page with nbviewer.org.</b></div><div class=\"sk-container\" hidden><div class=\"sk-item\"><div class=\"sk-estimator sk-toggleable\"><input class=\"sk-toggleable__control sk-hidden--visually\" id=\"sk-estimator-id-4\" type=\"checkbox\" checked><label for=\"sk-estimator-id-4\" class=\"sk-toggleable__label sk-toggleable__label-arrow\">XGBRegressor</label><div class=\"sk-toggleable__content\"><pre>XGBRegressor(base_score=None, booster=None, callbacks=None,\n",
       "             colsample_bylevel=None, colsample_bynode=None,\n",
       "             colsample_bytree=0.897, device=None, early_stopping_rounds=None,\n",
       "             enable_categorical=False, eval_metric=None, feature_types=None,\n",
       "             gamma=0.004, grow_policy=None, importance_type=None,\n",
       "             interaction_constraints=None, learning_rate=0.041, max_bin=None,\n",
       "             max_cat_threshold=None, max_cat_to_onehot=None, max_delta_step=5.0,\n",
       "             max_depth=20, max_leaves=None, min_child_weight=3.0, missing=nan,\n",
       "             monotone_constraints=None, multi_strategy=None, n_estimators=500,\n",
       "             n_jobs=None, num_parallel_tree=None, random_state=42, ...)</pre></div></div></div></div></div>"
      ],
      "text/plain": [
       "XGBRegressor(base_score=None, booster=None, callbacks=None,\n",
       "             colsample_bylevel=None, colsample_bynode=None,\n",
       "             colsample_bytree=0.897, device=None, early_stopping_rounds=None,\n",
       "             enable_categorical=False, eval_metric=None, feature_types=None,\n",
       "             gamma=0.004, grow_policy=None, importance_type=None,\n",
       "             interaction_constraints=None, learning_rate=0.041, max_bin=None,\n",
       "             max_cat_threshold=None, max_cat_to_onehot=None, max_delta_step=5.0,\n",
       "             max_depth=20, max_leaves=None, min_child_weight=3.0, missing=nan,\n",
       "             monotone_constraints=None, multi_strategy=None, n_estimators=500,\n",
       "             n_jobs=None, num_parallel_tree=None, random_state=42, ...)"
      ]
     },
     "execution_count": 39,
     "metadata": {},
     "output_type": "execute_result"
    }
   ],
   "source": [
    "##Training\n",
    "\n",
    "xgb_model.fit(X_train_.to_numpy(), y_train_.to_numpy().ravel())"
   ]
  },
  {
   "cell_type": "code",
   "execution_count": 40,
   "metadata": {},
   "outputs": [],
   "source": [
    "import pickle\n",
    "\n",
    "with open(r'.\\xgb_best_model', \"wb\") as fp:\n",
    "    pickle.dump(xgb_model, fp)"
   ]
  },
  {
   "cell_type": "code",
   "execution_count": 41,
   "metadata": {},
   "outputs": [],
   "source": [
    "import pickle\n",
    "\n",
    "with open(r'.\\xgb_best_model',\"rb\") as fp:\n",
    "    xgb_model = pickle.load(fp)"
   ]
  },
  {
   "cell_type": "code",
   "execution_count": 42,
   "metadata": {},
   "outputs": [
    {
     "name": "stdout",
     "output_type": "stream",
     "text": [
      "R-squared: 0.6975708863349075\n"
     ]
    },
    {
     "data": {
      "image/png": "[encoded data removed]",
      "text/plain": [
       "<Figure size 640x480 with 1 Axes>"
      ]
     },
     "metadata": {},
     "output_type": "display_data"
    }
   ],
   "source": [
    "##Testing##\n",
    "\n",
    "y_pred = xgb_model.predict(X_val_)\n",
    "\n",
    "site_no=test_split['site_no']\n",
    "\n",
    "\n",
    "result_df = pd.DataFrame({\n",
    "    'Actual': np.ravel(y_val_),\n",
    "    'Predicted': np.ravel(y_pred),\n",
    "})\n",
    "\n",
    "r2 = r2_score(y_val_, y_pred)\n",
    "\n",
    "\n",
    "\n",
    "print(f'R-squared: {r2}')\n",
    "\n",
    "plt.scatter(y_val_,y_pred, label='eXtrmGRadBoost', color='blue', marker='o')\n",
    "\n",
    "y_val_ = np.ravel(y_val_)\n",
    "y_pred = np.ravel(y_pred)\n",
    "y_train_=np.ravel(y_train_)\n",
    "\n",
    "# Regression line from 0 to the maximum y-axis value\n",
    "max_y = max(max(y_pred),max(y_val_))\n",
    "plt.plot([0, max_y], [0, max_y], color='red', linestyle='--', label='Regression Line from 0')\n",
    "\n",
    "plt.xlabel('Actual Values')\n",
    "plt.ylabel('Predicted Values')\n",
    "plt.title('Scatter Plot with Trendline and Regression Line from 0')\n",
    "plt.legend()\n",
    "plt.show()\n"
   ]
  },
  {
   "cell_type": "code",
   "execution_count": null,
   "metadata": {},
   "outputs": [],
   "source": []
  }
 ],
 "metadata": {
  "kernelspec": {
   "display_name": "Python 3 (ipykernel)",
   "language": "python",
   "name": "python3"
  },
  "language_info": {
   "codemirror_mode": {
    "name": "ipython",
    "version": 3
   },
   "file_extension": ".py",
   "mimetype": "text/x-python",
   "name": "python",
   "nbconvert_exporter": "python",
   "pygments_lexer": "ipython3",
   "version": "3.10.9"
  }
 },
 "nbformat": 4,
 "nbformat_minor": 1
}
